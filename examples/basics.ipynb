{
 "cells": [
  {
   "cell_type": "code",
   "execution_count": null,
   "id": "529f4422-5c3a-4bd6-abe0-a15edfc62abb",
   "metadata": {},
   "outputs": [],
   "source": [
    "import polars as pl\n",
    "import polars_standards as ps"
   ]
  },
  {
   "cell_type": "code",
   "execution_count": null,
   "id": "c324a101",
   "metadata": {},
   "outputs": [],
   "source": [
    "df = pl.DataFrame({\n",
    "    \"iban\": [\"AA110011123Z5678\"] * 50_000 + [\"DE44500105175407324931\"] * 50_000\n",
    "})\n",
    "df.head()"
   ]
  },
  {
   "cell_type": "code",
   "execution_count": null,
   "id": "32d3bedf",
   "metadata": {},
   "outputs": [],
   "source": [
    "# %%timeit\n",
    "df.select(\n",
    "    pl.col(\"iban\").iban.country_code().alias(\"country_code\"),\n",
    "    pl.col(\"iban\").iban.check().alias(\"reason\"),\n",
    "    pl.col(\"iban\").iban.is_valid().alias(\"is_valid\"),\n",
    "    pl.col(\"iban\").iban.bban().alias(\"bban\"),\n",
    "    pl.col(\"iban\").iban.bank_id().alias(\"bank_id\"),\n",
    "    pl.col(\"iban\").iban.branch_id().alias(\"branch_id\"),\n",
    ") # .head()"
   ]
  },
  {
   "cell_type": "code",
   "execution_count": null,
   "id": "7bdd83f4",
   "metadata": {},
   "outputs": [],
   "source": [
    "import schwifty\n",
    "\n",
    "def get_bankcode(s:str) -> str:\n",
    "    try:\n",
    "        ib = schwifty.IBAN(s)\n",
    "        return ib.bank_code\n",
    "    except Exception as _:\n",
    "        return None"
   ]
  },
  {
   "cell_type": "code",
   "execution_count": null,
   "id": "5ebc840e",
   "metadata": {},
   "outputs": [],
   "source": [
    "get_bankcode(\"DE44500105175407324931\")"
   ]
  },
  {
   "cell_type": "code",
   "execution_count": null,
   "id": "f14614e0",
   "metadata": {},
   "outputs": [],
   "source": [
    "%timeit df.select(pl.col(\"iban\").map_elements(get_bankcode))\n",
    "%timeit df.select(pl.col(\"iban\").iban.bban())"
   ]
  },
  {
   "cell_type": "code",
   "execution_count": null,
   "id": "c6c8bc3f",
   "metadata": {},
   "outputs": [],
   "source": []
  }
 ],
 "metadata": {
  "kernelspec": {
   "display_name": "Python 3 (ipykernel)",
   "language": "python",
   "name": "python3"
  },
  "language_info": {
   "codemirror_mode": {
    "name": "ipython",
    "version": 3
   },
   "file_extension": ".py",
   "mimetype": "text/x-python",
   "name": "python",
   "nbconvert_exporter": "python",
   "pygments_lexer": "ipython3",
   "version": "3.11.7"
  }
 },
 "nbformat": 4,
 "nbformat_minor": 5
}
